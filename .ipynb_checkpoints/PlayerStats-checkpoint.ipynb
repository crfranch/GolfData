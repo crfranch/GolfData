{
 "cells": [
  {
   "cell_type": "code",
   "execution_count": 1,
   "metadata": {},
   "outputs": [],
   "source": [
    "# Dependencies\n",
    "import pandas as pd\n",
    "import numpy as np"
   ]
  },
  {
   "cell_type": "code",
   "execution_count": 2,
   "metadata": {},
   "outputs": [],
   "source": [
    "# Save path to data set in a variable\n",
    "data_file = \"Resources/playerstats_Jan24.csv\""
   ]
  },
  {
   "cell_type": "code",
   "execution_count": 3,
   "metadata": {},
   "outputs": [
    {
     "data": {
      "text/html": [
       "<div>\n",
       "<style scoped>\n",
       "    .dataframe tbody tr th:only-of-type {\n",
       "        vertical-align: middle;\n",
       "    }\n",
       "\n",
       "    .dataframe tbody tr th {\n",
       "        vertical-align: top;\n",
       "    }\n",
       "\n",
       "    .dataframe thead th {\n",
       "        text-align: right;\n",
       "    }\n",
       "</style>\n",
       "<table border=\"1\" class=\"dataframe\">\n",
       "  <thead>\n",
       "    <tr style=\"text-align: right;\">\n",
       "      <th></th>\n",
       "      <th>Ranked This Week</th>\n",
       "      <th>Ranked Last Week</th>\n",
       "      <th>Player Name</th>\n",
       "      <th>Events</th>\n",
       "      <th>Average Points</th>\n",
       "      <th>Total Points</th>\n",
       "      <th>Points Lost</th>\n",
       "      <th>Points Gained</th>\n",
       "      <th>Unnamed: 8</th>\n",
       "    </tr>\n",
       "  </thead>\n",
       "  <tbody>\n",
       "    <tr>\n",
       "      <th>0</th>\n",
       "      <td>1</td>\n",
       "      <td>1.0</td>\n",
       "      <td>Brooks Koepka</td>\n",
       "      <td>41</td>\n",
       "      <td>9.88</td>\n",
       "      <td>405.16</td>\n",
       "      <td>-24.36</td>\n",
       "      <td>1.91</td>\n",
       "      <td>NaN</td>\n",
       "    </tr>\n",
       "    <tr>\n",
       "      <th>1</th>\n",
       "      <td>2</td>\n",
       "      <td>2.0</td>\n",
       "      <td>Rory McIlroy</td>\n",
       "      <td>49</td>\n",
       "      <td>9.09</td>\n",
       "      <td>445.21</td>\n",
       "      <td>-22.31</td>\n",
       "      <td>0.00</td>\n",
       "      <td>NaN</td>\n",
       "    </tr>\n",
       "    <tr>\n",
       "      <th>2</th>\n",
       "      <td>3</td>\n",
       "      <td>3.0</td>\n",
       "      <td>Jon Rahm</td>\n",
       "      <td>48</td>\n",
       "      <td>8.02</td>\n",
       "      <td>384.89</td>\n",
       "      <td>-18.29</td>\n",
       "      <td>6.72</td>\n",
       "      <td>NaN</td>\n",
       "    </tr>\n",
       "    <tr>\n",
       "      <th>3</th>\n",
       "      <td>4</td>\n",
       "      <td>4.0</td>\n",
       "      <td>Justin Thomas</td>\n",
       "      <td>47</td>\n",
       "      <td>7.70</td>\n",
       "      <td>361.77</td>\n",
       "      <td>-18.90</td>\n",
       "      <td>48.00</td>\n",
       "      <td>NaN</td>\n",
       "    </tr>\n",
       "    <tr>\n",
       "      <th>4</th>\n",
       "      <td>5</td>\n",
       "      <td>5.0</td>\n",
       "      <td>Dustin Johnson</td>\n",
       "      <td>41</td>\n",
       "      <td>6.80</td>\n",
       "      <td>278.70</td>\n",
       "      <td>-19.92</td>\n",
       "      <td>7.84</td>\n",
       "      <td>NaN</td>\n",
       "    </tr>\n",
       "  </tbody>\n",
       "</table>\n",
       "</div>"
      ],
      "text/plain": [
       "   Ranked This Week  Ranked Last Week     Player Name  Events  Average Points  \\\n",
       "0                 1               1.0   Brooks Koepka      41            9.88   \n",
       "1                 2               2.0    Rory McIlroy      49            9.09   \n",
       "2                 3               3.0        Jon Rahm      48            8.02   \n",
       "3                 4               4.0   Justin Thomas      47            7.70   \n",
       "4                 5               5.0  Dustin Johnson      41            6.80   \n",
       "\n",
       "   Total Points  Points Lost  Points Gained  Unnamed: 8  \n",
       "0        405.16       -24.36           1.91         NaN  \n",
       "1        445.21       -22.31           0.00         NaN  \n",
       "2        384.89       -18.29           6.72         NaN  \n",
       "3        361.77       -18.90          48.00         NaN  \n",
       "4        278.70       -19.92           7.84         NaN  "
      ]
     },
     "execution_count": 3,
     "metadata": {},
     "output_type": "execute_result"
    }
   ],
   "source": [
    "# Use Pandas to read data\n",
    "data_file_pd = pd.read_csv(data_file)\n",
    "data_file_pd.head()"
   ]
  },
  {
   "cell_type": "code",
   "execution_count": 4,
   "metadata": {},
   "outputs": [
    {
     "data": {
      "text/html": [
       "<div>\n",
       "<style scoped>\n",
       "    .dataframe tbody tr th:only-of-type {\n",
       "        vertical-align: middle;\n",
       "    }\n",
       "\n",
       "    .dataframe tbody tr th {\n",
       "        vertical-align: top;\n",
       "    }\n",
       "\n",
       "    .dataframe thead th {\n",
       "        text-align: right;\n",
       "    }\n",
       "</style>\n",
       "<table border=\"1\" class=\"dataframe\">\n",
       "  <thead>\n",
       "    <tr style=\"text-align: right;\">\n",
       "      <th></th>\n",
       "      <th>Ranked This Week</th>\n",
       "      <th>Ranked Last Week</th>\n",
       "      <th>Events</th>\n",
       "      <th>Average Points</th>\n",
       "      <th>Total Points</th>\n",
       "      <th>Points Lost</th>\n",
       "      <th>Points Gained</th>\n",
       "      <th>Unnamed: 8</th>\n",
       "    </tr>\n",
       "  </thead>\n",
       "  <tbody>\n",
       "    <tr>\n",
       "      <th>count</th>\n",
       "      <td>998.000000</td>\n",
       "      <td>994.000000</td>\n",
       "      <td>998.000000</td>\n",
       "      <td>998.000000</td>\n",
       "      <td>998.000000</td>\n",
       "      <td>990.000000</td>\n",
       "      <td>998.000000</td>\n",
       "      <td>0.0</td>\n",
       "    </tr>\n",
       "    <tr>\n",
       "      <th>mean</th>\n",
       "      <td>499.421844</td>\n",
       "      <td>497.433602</td>\n",
       "      <td>45.399800</td>\n",
       "      <td>0.661673</td>\n",
       "      <td>31.424930</td>\n",
       "      <td>-1.714101</td>\n",
       "      <td>1.496794</td>\n",
       "      <td>NaN</td>\n",
       "    </tr>\n",
       "    <tr>\n",
       "      <th>std</th>\n",
       "      <td>288.174828</td>\n",
       "      <td>287.048701</td>\n",
       "      <td>5.021267</td>\n",
       "      <td>0.992817</td>\n",
       "      <td>47.664691</td>\n",
       "      <td>2.669499</td>\n",
       "      <td>4.647075</td>\n",
       "      <td>NaN</td>\n",
       "    </tr>\n",
       "    <tr>\n",
       "      <th>min</th>\n",
       "      <td>1.000000</td>\n",
       "      <td>1.000000</td>\n",
       "      <td>40.000000</td>\n",
       "      <td>0.110000</td>\n",
       "      <td>4.430000</td>\n",
       "      <td>-24.360000</td>\n",
       "      <td>0.000000</td>\n",
       "      <td>NaN</td>\n",
       "    </tr>\n",
       "    <tr>\n",
       "      <th>25%</th>\n",
       "      <td>250.250000</td>\n",
       "      <td>249.250000</td>\n",
       "      <td>40.000000</td>\n",
       "      <td>0.180000</td>\n",
       "      <td>7.700000</td>\n",
       "      <td>-1.777500</td>\n",
       "      <td>0.000000</td>\n",
       "      <td>NaN</td>\n",
       "    </tr>\n",
       "    <tr>\n",
       "      <th>50%</th>\n",
       "      <td>499.500000</td>\n",
       "      <td>497.500000</td>\n",
       "      <td>45.000000</td>\n",
       "      <td>0.320000</td>\n",
       "      <td>14.575000</td>\n",
       "      <td>-0.820000</td>\n",
       "      <td>0.000000</td>\n",
       "      <td>NaN</td>\n",
       "    </tr>\n",
       "    <tr>\n",
       "      <th>75%</th>\n",
       "      <td>748.750000</td>\n",
       "      <td>745.750000</td>\n",
       "      <td>51.000000</td>\n",
       "      <td>0.680000</td>\n",
       "      <td>33.667500</td>\n",
       "      <td>-0.430000</td>\n",
       "      <td>1.200000</td>\n",
       "      <td>NaN</td>\n",
       "    </tr>\n",
       "    <tr>\n",
       "      <th>max</th>\n",
       "      <td>998.000000</td>\n",
       "      <td>997.000000</td>\n",
       "      <td>52.000000</td>\n",
       "      <td>9.880000</td>\n",
       "      <td>445.210000</td>\n",
       "      <td>-0.030000</td>\n",
       "      <td>50.000000</td>\n",
       "      <td>NaN</td>\n",
       "    </tr>\n",
       "  </tbody>\n",
       "</table>\n",
       "</div>"
      ],
      "text/plain": [
       "       Ranked This Week  Ranked Last Week      Events  Average Points  \\\n",
       "count        998.000000        994.000000  998.000000      998.000000   \n",
       "mean         499.421844        497.433602   45.399800        0.661673   \n",
       "std          288.174828        287.048701    5.021267        0.992817   \n",
       "min            1.000000          1.000000   40.000000        0.110000   \n",
       "25%          250.250000        249.250000   40.000000        0.180000   \n",
       "50%          499.500000        497.500000   45.000000        0.320000   \n",
       "75%          748.750000        745.750000   51.000000        0.680000   \n",
       "max          998.000000        997.000000   52.000000        9.880000   \n",
       "\n",
       "       Total Points  Points Lost  Points Gained  Unnamed: 8  \n",
       "count    998.000000   990.000000     998.000000         0.0  \n",
       "mean      31.424930    -1.714101       1.496794         NaN  \n",
       "std       47.664691     2.669499       4.647075         NaN  \n",
       "min        4.430000   -24.360000       0.000000         NaN  \n",
       "25%        7.700000    -1.777500       0.000000         NaN  \n",
       "50%       14.575000    -0.820000       0.000000         NaN  \n",
       "75%       33.667500    -0.430000       1.200000         NaN  \n",
       "max      445.210000    -0.030000      50.000000         NaN  "
      ]
     },
     "execution_count": 4,
     "metadata": {},
     "output_type": "execute_result"
    }
   ],
   "source": [
    "# Display a statistical overview of the DataFrame\n",
    "data_file_pd.describe()"
   ]
  },
  {
   "cell_type": "code",
   "execution_count": 5,
   "metadata": {},
   "outputs": [
    {
     "data": {
      "text/plain": [
       "0    405.16\n",
       "1    445.21\n",
       "2    384.89\n",
       "3    361.77\n",
       "4    278.70\n",
       "Name: Total Points, dtype: float64"
      ]
     },
     "execution_count": 5,
     "metadata": {},
     "output_type": "execute_result"
    }
   ],
   "source": [
    "# Reference the Total Points Column\n",
    "data_file_pd[\"Total Points\"].head()"
   ]
  },
  {
   "cell_type": "code",
   "execution_count": 6,
   "metadata": {},
   "outputs": [
    {
     "data": {
      "text/html": [
       "<div>\n",
       "<style scoped>\n",
       "    .dataframe tbody tr th:only-of-type {\n",
       "        vertical-align: middle;\n",
       "    }\n",
       "\n",
       "    .dataframe tbody tr th {\n",
       "        vertical-align: top;\n",
       "    }\n",
       "\n",
       "    .dataframe thead th {\n",
       "        text-align: right;\n",
       "    }\n",
       "</style>\n",
       "<table border=\"1\" class=\"dataframe\">\n",
       "  <thead>\n",
       "    <tr style=\"text-align: right;\">\n",
       "      <th></th>\n",
       "      <th>Player Name</th>\n",
       "      <th>Total Points</th>\n",
       "    </tr>\n",
       "  </thead>\n",
       "  <tbody>\n",
       "    <tr>\n",
       "      <th>0</th>\n",
       "      <td>Brooks Koepka</td>\n",
       "      <td>405.16</td>\n",
       "    </tr>\n",
       "    <tr>\n",
       "      <th>1</th>\n",
       "      <td>Rory McIlroy</td>\n",
       "      <td>445.21</td>\n",
       "    </tr>\n",
       "    <tr>\n",
       "      <th>2</th>\n",
       "      <td>Jon Rahm</td>\n",
       "      <td>384.89</td>\n",
       "    </tr>\n",
       "    <tr>\n",
       "      <th>3</th>\n",
       "      <td>Justin Thomas</td>\n",
       "      <td>361.77</td>\n",
       "    </tr>\n",
       "    <tr>\n",
       "      <th>4</th>\n",
       "      <td>Dustin Johnson</td>\n",
       "      <td>278.70</td>\n",
       "    </tr>\n",
       "  </tbody>\n",
       "</table>\n",
       "</div>"
      ],
      "text/plain": [
       "      Player Name  Total Points\n",
       "0   Brooks Koepka        405.16\n",
       "1    Rory McIlroy        445.21\n",
       "2        Jon Rahm        384.89\n",
       "3   Justin Thomas        361.77\n",
       "4  Dustin Johnson        278.70"
      ]
     },
     "execution_count": 6,
     "metadata": {},
     "output_type": "execute_result"
    }
   ],
   "source": [
    "# Reference multiple columns within a DataFrame\n",
    "data_file_pd[[\"Player Name\", \"Total Points\"]].head()"
   ]
  },
  {
   "cell_type": "code",
   "execution_count": 7,
   "metadata": {},
   "outputs": [
    {
     "data": {
      "text/plain": [
       "31362.08"
      ]
     },
     "execution_count": 7,
     "metadata": {},
     "output_type": "execute_result"
    }
   ],
   "source": [
    "# Add up total points across all players to date\n",
    "data_file_pd['Total Points'].sum()"
   ]
  },
  {
   "cell_type": "code",
   "execution_count": 8,
   "metadata": {},
   "outputs": [
    {
     "data": {
      "text/plain": [
       "4.95     4\n",
       "6.08     4\n",
       "6.55     4\n",
       "7.33     3\n",
       "14.21    3\n",
       "Name: Total Points, dtype: int64"
      ]
     },
     "execution_count": 8,
     "metadata": {},
     "output_type": "execute_result"
    }
   ],
   "source": [
    "# Finding the mode total amount of points for players\n",
    "data_file_pd['Total Points'].value_counts().head()"
   ]
  },
  {
   "cell_type": "code",
   "execution_count": null,
   "metadata": {},
   "outputs": [],
   "source": []
  }
 ],
 "metadata": {
  "kernelspec": {
   "display_name": "Python 3",
   "language": "python",
   "name": "python3"
  },
  "language_info": {
   "codemirror_mode": {
    "name": "ipython",
    "version": 3
   },
   "file_extension": ".py",
   "mimetype": "text/x-python",
   "name": "python",
   "nbconvert_exporter": "python",
   "pygments_lexer": "ipython3",
   "version": "3.7.3"
  }
 },
 "nbformat": 4,
 "nbformat_minor": 2
}
